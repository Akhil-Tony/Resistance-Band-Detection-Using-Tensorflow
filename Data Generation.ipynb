{
 "cells": [
  {
   "cell_type": "code",
   "execution_count": 1,
   "id": "4ad70d16",
   "metadata": {},
   "outputs": [],
   "source": [
    "import mediapipe as mp\n",
    "import cv2 as cv\n",
    "import numpy as np\n",
    "import time\n",
    "import os\n",
    "\n",
    "mpPose = mp.solutions.pose\n",
    "Pose = mpPose.Pose()\n",
    "mpDraw = mp.solutions.drawing_utils"
   ]
  },
  {
   "cell_type": "code",
   "execution_count": 5,
   "id": "494c964c",
   "metadata": {},
   "outputs": [],
   "source": [
    "photo_path = os.path.join(os.curdir,'photos2')\n",
    "def crop(frame,landmarks,filename):\n",
    "#     hip\n",
    "#     xs = landmarks[24].x,landmarks[23].x,landmarks[26].x,landmarks[25].x\n",
    "#     ys = landmarks[24].y,landmarks[23].y,landmarks[26].y,landmarks[25].y\n",
    "    \n",
    "#     hands\n",
    "    left_upper_body_mid = (landmarks[11].x + landmarks[23].x)/2,(landmarks[11].y + landmarks[23].y)/2\n",
    "    right_upper_body_mid = (landmarks[12].x + landmarks[24].x)/2,(landmarks[12].y + landmarks[24].y)/2\n",
    "    \n",
    "    above_head_point = landmarks[4].y + abs(landmarks[4].y - landmarks[12].y)\n",
    "    \n",
    "    xs = left_upper_body_mid[0],right_upper_body_mid[0]\n",
    "    ys = above_head_point,left_upper_body_mid[1],right_upper_body_mid[1]\n",
    "    \n",
    "    xmin,xmax = min(xs),max(xs)\n",
    "    ymin,ymax = min(ys),max(ys)\n",
    "    height,width = frame.shape[:2]\n",
    "    ymin,ymax = int(ymin*height),int(ymax*height)\n",
    "    xmin,xmax = int(xmin*width),int(xmax*width)\n",
    "    out = frame[ymin:ymax,xmin:xmax,:]\n",
    "    file_name = os.path.join(photo_path,filename+'.jpg')\n",
    "    try:\n",
    "        cv.imwrite(file_name,out)\n",
    "    except:\n",
    "        pass"
   ]
  },
  {
   "cell_type": "code",
   "execution_count": 11,
   "id": "1299f6d8",
   "metadata": {},
   "outputs": [],
   "source": [
    "def draw(frame,landmarks):\n",
    "    #hip\n",
    "#     xs = landmarks[24].x,landmarks[23].x,landmarks[26].x,landmarks[25].x\n",
    "#     ys = landmarks[24].y,landmarks[23].y,landmarks[26].y,landmarks[25].y\n",
    "    \n",
    "    #hands\n",
    "    \n",
    "    left_upper_body_mid = (landmarks[11].x + landmarks[23].x)/2,(landmarks[11].y + landmarks[23].y)/2\n",
    "    right_upper_body_mid = (landmarks[12].x + landmarks[24].x)/2,(landmarks[12].y + landmarks[24].y)/2\n",
    "    \n",
    "    above_head_point = landmarks[4].y - abs(landmarks[4].y - landmarks[12].y)\n",
    "    \n",
    "    xs = left_upper_body_mid[0],right_upper_body_mid[0]\n",
    "    ys = above_head_point,left_upper_body_mid[1],right_upper_body_mid[1]\n",
    "    \n",
    "    \n",
    "    \n",
    "    xmin,xmax = min(xs),max(xs)\n",
    "    ymin,ymax = min(ys),max(ys)\n",
    "    height,width = frame.shape[:2]\n",
    "    ymin,ymax = int(ymin*height),int(ymax*height)\n",
    "    xmin,xmax = int(xmin*width),int(xmax*width)\n",
    "    frame = cv.rectangle(frame,(xmin,ymin-10),(xmax,ymax+10),(255,0,0),2)\n",
    "    return frame"
   ]
  },
  {
   "cell_type": "markdown",
   "id": "b8122624",
   "metadata": {},
   "source": [
    "### making folders for the cropped image files"
   ]
  },
  {
   "cell_type": "code",
   "execution_count": 6,
   "id": "b7cba39c",
   "metadata": {},
   "outputs": [],
   "source": [
    "for v_f in os.listdir(video_path):\n",
    "    os.mkdir(os.path.join(photo_path,v_f[:-4]))"
   ]
  },
  {
   "cell_type": "code",
   "execution_count": 7,
   "id": "a5e58aae",
   "metadata": {},
   "outputs": [
    {
     "data": {
      "text/plain": [
       "'.\\\\video2\\\\positive'"
      ]
     },
     "execution_count": 7,
     "metadata": {},
     "output_type": "execute_result"
    }
   ],
   "source": [
    "video_path"
   ]
  },
  {
   "cell_type": "markdown",
   "id": "bd3f1ccb",
   "metadata": {},
   "source": [
    "### Cropping the frames"
   ]
  },
  {
   "cell_type": "code",
   "execution_count": 8,
   "id": "7b54ead5",
   "metadata": {},
   "outputs": [
    {
     "name": "stdout",
     "output_type": "stream",
     "text": [
      "26177\n"
     ]
    }
   ],
   "source": [
    "## total frames\n",
    "total = 0\n",
    "for video in videos:\n",
    "    file = os.path.join(video_path,video)\n",
    "    cam = cv.VideoCapture(file)\n",
    "    count = int(cam.get(cv.CAP_PROP_FRAME_COUNT))\n",
    "    total+=count\n",
    "print(total)"
   ]
  },
  {
   "cell_type": "code",
   "execution_count": 10,
   "id": "17a1bc96",
   "metadata": {},
   "outputs": [
    {
     "name": "stdout",
     "output_type": "stream",
     "text": [
      "10 Minute Mini Band Workout  Upper Body  Arms - FIT by Larie1.mp4\n",
      "10 Minute Mini Band Workout  Upper Body  Arms - FIT by Larie2.mp4\n",
      "10 MINUTE RESISTANCE BAND ARM WORKOUT  At Home Upper Body - MODMANDY FIT1.mp4\n",
      "12 min UPPER BODY RESISTANCE BAND Workout At Home - MadFit1.mp4\n",
      "12 min UPPER BODY RESISTANCE BAND Workout At Home - MadFit2.mp4\n",
      "15 Minute NO REPEAT Mini Resistance Band Upper Body Workout - Zanna van Dijk1.mp4\n",
      "15 Minute NO REPEAT Mini Resistance Band Upper Body Workout - Zanna van Dijk2.mp4\n",
      "Best Exercises For Shoulder Pain Using A Theraband1.mp4\n",
      "chest\n",
      "GoFit Flat Band  Upper Body Workout 8 min. - GoFit Fitness1.mp4\n",
      "Toned, Tank Top Arms in 12 Minutes How to Lose Arm Fat Workout for Beginners, Home Fitness - PsycheTruth1.mp4\n",
      "videoplayback (1)1.mp4\n",
      "videoplayback (2)1.mp4\n",
      "videoplayback1.mp4\n"
     ]
    }
   ],
   "source": [
    "# video_path = os.path.join(os.curdir,'video2','positive')\n",
    "videos = os.listdir(video_path)\n",
    "frame_count = 0\n",
    "for video in videos:\n",
    "    print(video)\n",
    "    file = os.path.join(video_path,video)\n",
    "    cam = cv.VideoCapture(file)\n",
    "    while True:\n",
    "        status,frame = cam.read()\n",
    "        if status:\n",
    "            frame_rgb = cv.cvtColor(frame,cv.COLOR_BGR2RGB)\n",
    "            processed = Pose.process(frame_rgb)\n",
    "            if processed.pose_landmarks:\n",
    "                frame_count += 1\n",
    "                filename = os.path.join(video[:-4],str(frame_count))\n",
    "                crop(frame,processed.pose_landmarks.landmark,filename)\n",
    "        else:\n",
    "            cam.release()\n",
    "            cv.destroyAllWindows()\n",
    "            break"
   ]
  },
  {
   "cell_type": "code",
   "execution_count": 53,
   "id": "3105da98",
   "metadata": {},
   "outputs": [
    {
     "data": {
      "text/plain": [
       "92578"
      ]
     },
     "execution_count": 53,
     "metadata": {},
     "output_type": "execute_result"
    }
   ],
   "source": [
    "frame_count"
   ]
  },
  {
   "cell_type": "markdown",
   "id": "31330de3",
   "metadata": {},
   "source": [
    "### Seeing the region of interest"
   ]
  },
  {
   "cell_type": "code",
   "execution_count": 2,
   "id": "d46ebaa5",
   "metadata": {},
   "outputs": [],
   "source": [
    "video_path = os.path.join(os.curdir,'video2','positive')\n",
    "videos = os.listdir(video_path)"
   ]
  },
  {
   "cell_type": "code",
   "execution_count": 12,
   "id": "84ac6513",
   "metadata": {},
   "outputs": [],
   "source": [
    "for video in videos:\n",
    "    file = os.path.join(video_path,video)\n",
    "    cam = cv.VideoCapture(file)\n",
    "    while True:\n",
    "        status,frame = cam.read()\n",
    "        if status:\n",
    "            frame_rgb = cv.cvtColor(frame,cv.COLOR_BGR2RGB)\n",
    "            processed = Pose.process(frame_rgb)\n",
    "            if processed.pose_landmarks:\n",
    "                mpDraw.draw_landmarks(frame,processed.pose_landmarks,mpPose.POSE_CONNECTIONS)\n",
    "                frame = draw(frame,processed.pose_landmarks.landmark)\n",
    "            cv.imshow('video',frame)\n",
    "            if cv.waitKey(1)&0xff==ord('q'):\n",
    "                cam.release()\n",
    "                cv.destroyAllWindows()\n",
    "                break\n",
    "        else:\n",
    "            cam.release()\n",
    "            cv.destroyAllWindows()\n",
    "            break"
   ]
  }
 ],
 "metadata": {
  "kernelspec": {
   "display_name": "Python 3",
   "language": "python",
   "name": "python3"
  },
  "language_info": {
   "codemirror_mode": {
    "name": "ipython",
    "version": 3
   },
   "file_extension": ".py",
   "mimetype": "text/x-python",
   "name": "python",
   "nbconvert_exporter": "python",
   "pygments_lexer": "ipython3",
   "version": "3.8.8"
  }
 },
 "nbformat": 4,
 "nbformat_minor": 5
}

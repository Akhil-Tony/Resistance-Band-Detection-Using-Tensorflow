{
 "cells": [
  {
   "cell_type": "code",
   "execution_count": 1,
   "id": "dae9d2d1",
   "metadata": {},
   "outputs": [],
   "source": [
    "import os\n",
    "import cv2 as cv\n",
    "import numpy as np\n",
    "from tqdm import tqdm\n",
    "from tensorflow.keras.preprocessing.image import img_to_array,array_to_img,load_img"
   ]
  },
  {
   "cell_type": "code",
   "execution_count": 2,
   "id": "d04ccd89",
   "metadata": {},
   "outputs": [],
   "source": [
    "data_path = os.path.join(os.curdir,'dataset')\n",
    "classes = ['without_band', 'with_band']"
   ]
  },
  {
   "cell_type": "markdown",
   "id": "778574c0",
   "metadata": {},
   "source": [
    "### Loading all the images"
   ]
  },
  {
   "cell_type": "code",
   "execution_count": 3,
   "id": "4cfcbe4a",
   "metadata": {},
   "outputs": [
    {
     "name": "stdout",
     "output_type": "stream",
     "text": [
      ".\\dataset\\without_band\\1\n",
      ".\\dataset\\without_band\\2\n",
      ".\\dataset\\without_band\\3\n",
      ".\\dataset\\without_band\\4\n",
      ".\\dataset\\with_band\\1\n",
      ".\\dataset\\with_band\\2\n",
      ".\\dataset\\with_band\\3\n"
     ]
    }
   ],
   "source": [
    "# height * width * channel\n",
    "all_images = []\n",
    "for cls in classes:\n",
    "    cls_path = os.path.join(data_path,cls)\n",
    "    class_images = []\n",
    "    for img_d in os.listdir(cls_path):\n",
    "        img_path = os.path.join(cls_path,img_d)\n",
    "        print(img_path)\n",
    "        sub_images = []\n",
    "        for img in os.listdir(img_path):\n",
    "            image = os.path.join(img_path,img) #file location\n",
    "#             img = load_img(image,target_size=(80,70))\n",
    "            img = cv.imread(image)\n",
    "            img = cv.resize(img,(80,70))\n",
    "            img = img_to_array(img)\n",
    "            img = img/255\n",
    "            sub_images.append(img)\n",
    "        class_images.append(sub_images)\n",
    "    all_images.append(class_images)"
   ]
  },
  {
   "cell_type": "code",
   "execution_count": 4,
   "id": "ec0d098e",
   "metadata": {},
   "outputs": [],
   "source": [
    "def sample(class_data,size,label):\n",
    "    sampled = []\n",
    "    for i,data in enumerate(class_data):\n",
    "        data = np.array(data)\n",
    "        length = data.shape[0]\n",
    "        idx = np.random.randint(0,length,size[i])\n",
    "        sampled.append(data[idx])\n",
    "    data = np.concatenate(sampled,dtype='float32')\n",
    "    labels = np.array([label] * len(data),dtype='int8')\n",
    "    return data,labels\n",
    "# _d = sample(all_images[1],[100,200,300],1)"
   ]
  },
  {
   "cell_type": "code",
   "execution_count": 8,
   "id": "b5549e33",
   "metadata": {},
   "outputs": [],
   "source": [
    "def load_data(class_data,label):\n",
    "    sampled = []\n",
    "    for data in class_data:\n",
    "        data = np.array(data)\n",
    "        sampled.append(data)\n",
    "    data = np.concatenate(sampled,dtype='float32')\n",
    "    labels = np.array([label] * len(data),dtype='int8')\n",
    "    return data,labels"
   ]
  },
  {
   "cell_type": "code",
   "execution_count": 9,
   "id": "4450783a",
   "metadata": {},
   "outputs": [],
   "source": [
    "# negatives,n_label = sample(all_images[0],[1300,1234,1234,1234],0)\n",
    "# positives,p_label = sample(all_images[1],[2000,1500,1500],1)\n",
    "\n",
    "negatives,n_label = load_data(all_images[0],0)\n",
    "positives,p_label = load_data(all_images[1],1)"
   ]
  },
  {
   "cell_type": "code",
   "execution_count": 11,
   "id": "440447e0",
   "metadata": {},
   "outputs": [],
   "source": [
    "size = positives.shape[0]\n",
    "length = negatives.shape[0]\n",
    "idx = np.random.randint(0,length,size)\n",
    "negatives = negatives[idx]\n",
    "n_label = n_label[:size]"
   ]
  },
  {
   "cell_type": "code",
   "execution_count": 3,
   "id": "459cf948",
   "metadata": {},
   "outputs": [],
   "source": [
    "# x = np.concatenate([negatives,positives])\n",
    "# y = np.concatenate([n_label,p_label])\n",
    "x = np.load('data_arrays/x.npy')\n",
    "y = np.load('data_arrays/y.npy')"
   ]
  },
  {
   "cell_type": "code",
   "execution_count": 6,
   "id": "0d67e7cf",
   "metadata": {},
   "outputs": [],
   "source": [
    "from sklearn.model_selection import train_test_split"
   ]
  },
  {
   "cell_type": "code",
   "execution_count": 7,
   "id": "6b857f5f",
   "metadata": {},
   "outputs": [],
   "source": [
    "x_train,x_val,y_train,y_val = train_test_split(x,y,test_size=.2,random_state=17,\n",
    "                                               shuffle=True,stratify=y)"
   ]
  },
  {
   "cell_type": "markdown",
   "id": "cf7a8c37",
   "metadata": {},
   "source": [
    "### visualizing training images"
   ]
  },
  {
   "cell_type": "code",
   "execution_count": 18,
   "id": "c7534e87",
   "metadata": {},
   "outputs": [],
   "source": [
    "ps = (x_train[y_train==1])\n",
    "ns = (x_train[y_train==0])"
   ]
  },
  {
   "cell_type": "code",
   "execution_count": 19,
   "id": "96ed7bac",
   "metadata": {},
   "outputs": [
    {
     "name": "stdout",
     "output_type": "stream",
     "text": [
      "(18325, 70, 80, 3) (18326, 70, 80, 3)\n"
     ]
    }
   ],
   "source": [
    "print(ps.shape,ns.shape)"
   ]
  },
  {
   "cell_type": "code",
   "execution_count": 20,
   "id": "3c3d2354",
   "metadata": {},
   "outputs": [],
   "source": [
    "for img in ns:\n",
    "    cv.imshow('image',img)\n",
    "    if cv.waitKey(1)&0xff == ord('q'):\n",
    "        break\n",
    "cv.destroyAllWindows()"
   ]
  },
  {
   "cell_type": "code",
   "execution_count": 15,
   "id": "6eb68d37",
   "metadata": {},
   "outputs": [],
   "source": [
    "cv.destroyAllWindows()"
   ]
  },
  {
   "cell_type": "markdown",
   "id": "d8a12bd5",
   "metadata": {},
   "source": [
    "### Model Building"
   ]
  },
  {
   "cell_type": "code",
   "execution_count": 15,
   "id": "54d94a01",
   "metadata": {},
   "outputs": [],
   "source": [
    "from tensorflow import keras"
   ]
  },
  {
   "cell_type": "code",
   "execution_count": 18,
   "id": "2994d6f1",
   "metadata": {},
   "outputs": [
    {
     "name": "stdout",
     "output_type": "stream",
     "text": [
      "1146/1146 [==============================] - 511s 446ms/step - loss: 0.1087 - accuracy: 0.9494 - val_loss: 0.0063 - val_accuracy: 0.9977\n"
     ]
    }
   ],
   "source": [
    "model = keras.models.Sequential([\n",
    "    keras.layers.Conv2D(64,12,strides=2,activation='relu',padding='same',input_shape=[70,80,3]),\n",
    "    keras.layers.Conv2D(128,6,strides=2,activation='relu',padding='same'),\n",
    "    keras.layers.Conv2D(128,3,strides=2,activation='relu',padding='same'),\n",
    "    keras.layers.Flatten(),\n",
    "    keras.layers.Dense(64,activation='relu'),\n",
    "    keras.layers.Dense(2,activation='softmax')\n",
    "])\n",
    "model.compile(optimizer='adam', loss='sparse_categorical_crossentropy',metrics=['accuracy'])\n",
    "H = model.fit(x_train,y_train,batch_size=32,\n",
    "              validation_data=(x_val,y_val),epochs=1)"
   ]
  },
  {
   "cell_type": "code",
   "execution_count": 19,
   "id": "0f6591fa",
   "metadata": {},
   "outputs": [],
   "source": [
    "model.save('models/resistance_band_detector2.h5')"
   ]
  },
  {
   "cell_type": "code",
   "execution_count": 20,
   "id": "55e9bf16",
   "metadata": {},
   "outputs": [],
   "source": [
    "np.save('data_arrays/x.npy',x)\n",
    "np.save('data_arrays/y.npy',y)"
   ]
  },
  {
   "cell_type": "markdown",
   "id": "9126436c",
   "metadata": {},
   "source": [
    "### Testing "
   ]
  },
  {
   "cell_type": "code",
   "execution_count": 24,
   "id": "12b191c9",
   "metadata": {},
   "outputs": [],
   "source": [
    "def show(image):\n",
    "    cv.imshow('image',image)\n",
    "    cv.waitKey(0)\n",
    "    cv.destroyAllWindows()"
   ]
  },
  {
   "cell_type": "code",
   "execution_count": 33,
   "id": "df001551",
   "metadata": {},
   "outputs": [],
   "source": [
    "from tensorflow import keras"
   ]
  },
  {
   "cell_type": "code",
   "execution_count": 34,
   "id": "c51bdfc8",
   "metadata": {},
   "outputs": [],
   "source": [
    " model = keras.models.load_model('models/resistance_band_detector2.h5')"
   ]
  },
  {
   "cell_type": "code",
   "execution_count": null,
   "id": "76dfc821",
   "metadata": {},
   "outputs": [],
   "source": [
    "def preprocess(image):\n",
    "    image = cv.resize(img,(80,70))\n",
    "    image = image/255\n",
    "    return image #[np.newaxis,...]"
   ]
  },
  {
   "cell_type": "code",
   "execution_count": 40,
   "id": "1874c80b",
   "metadata": {},
   "outputs": [
    {
     "name": "stdout",
     "output_type": "stream",
     "text": [
      "no band\n",
      "no band\n",
      "no band\n",
      "no band\n",
      "no band\n",
      "no band\n",
      "no band\n",
      "no band\n",
      "no band\n",
      "no band\n",
      "no band\n",
      "no band\n",
      "no band\n",
      "no band\n",
      "no band\n",
      "no band\n",
      "no band\n",
      "no band\n",
      "no band\n",
      "no band\n",
      "no band\n",
      "no band\n",
      "no band\n",
      "no band\n",
      "no band\n",
      "no band\n",
      "no band\n",
      "no band\n",
      "no band\n",
      "no band\n",
      "no band\n",
      "no band\n",
      "no band\n",
      "no band\n",
      "no band\n",
      "no band\n",
      "no band\n",
      "no band\n",
      "no band\n",
      "no band\n",
      "no band\n",
      "no band\n",
      "no band\n",
      "no band\n",
      "no band\n",
      "no band\n",
      "no band\n",
      "no band\n",
      "no band\n",
      "no band\n",
      "no band\n",
      "no band\n",
      "no band\n",
      "no band\n",
      "no band\n",
      "no band\n",
      "no band\n",
      "no band\n",
      "no band\n",
      "no band\n",
      "no band\n",
      "no band\n",
      "no band\n",
      "no band\n",
      "no band\n",
      "no band\n",
      "no band\n",
      "no band\n",
      "no band\n",
      "no band\n",
      "no band\n",
      "no band\n",
      "no band\n",
      "no band\n",
      "no band\n",
      "no band\n",
      "no band\n",
      "no band\n",
      "no band\n",
      "no band\n",
      "no band\n",
      "no band\n",
      "no band\n",
      "no band\n",
      "no band\n",
      "no band\n",
      "no band\n",
      "no band\n",
      "no band\n",
      "no band\n",
      "no band\n",
      "no band\n",
      "no band\n",
      "no band\n",
      "no band\n",
      "no band\n",
      "no band\n",
      "no band\n",
      "no band\n",
      "no band\n",
      "no band\n",
      "no band\n",
      "no band\n",
      "no band\n",
      "no band\n",
      "no band\n",
      "no band\n",
      "no band\n",
      "no band\n",
      "no band\n",
      "no band\n",
      "no band\n",
      "no band\n",
      "no band\n",
      "no band\n",
      "no band\n",
      "no band\n",
      "no band\n",
      "no band\n",
      "no band\n",
      "no band\n",
      "no band\n",
      "no band\n",
      "no band\n",
      "no band\n",
      "no band\n",
      "no band\n",
      "no band\n",
      "no band\n",
      "no band\n",
      "no band\n",
      "no band\n",
      "no band\n",
      "no band\n",
      "no band\n",
      "no band\n",
      "no band\n",
      "no band\n",
      "no band\n",
      "no band\n",
      "no band\n",
      "no band\n",
      "no band\n",
      "no band\n",
      "no band\n",
      "no band\n",
      "no band\n",
      "no band\n",
      "no band\n",
      "no band\n",
      "no band\n",
      "no band\n",
      "no band\n",
      "no band\n",
      "no band\n",
      "no band\n",
      "no band\n",
      "no band\n",
      "no band\n",
      "no band\n",
      "no band\n",
      "no band\n",
      "no band\n",
      "no band\n",
      "no band\n",
      "no band\n",
      "no band\n",
      "no band\n",
      "no band\n",
      "no band\n",
      "no band\n",
      "no band\n",
      "no band\n",
      "no band\n",
      "no band\n",
      "no band\n",
      "no band\n",
      "no band\n",
      "no band\n",
      "no band\n",
      "no band\n",
      "no band\n",
      "no band\n",
      "no band\n",
      "no band\n",
      "no band\n",
      "no band\n",
      "no band\n",
      "no band\n",
      "no band\n",
      "no band\n",
      "no band\n",
      "no band\n",
      "no band\n",
      "no band\n",
      "no band\n",
      "no band\n",
      "no band\n",
      "no band\n",
      "no band\n",
      "no band\n",
      "no band\n",
      "no band\n",
      "no band\n",
      "no band\n",
      "no band\n",
      "no band\n",
      "no band\n",
      "no band\n",
      "no band\n",
      "no band\n",
      "no band\n",
      "no band\n",
      "no band\n",
      "no band\n",
      "no band\n",
      "no band\n",
      "no band\n",
      "no band\n",
      "no band\n",
      "no band\n",
      "no band\n",
      "no band\n",
      "no band\n",
      "no band\n",
      "no band\n",
      "no band\n",
      "no band\n",
      "no band\n",
      "no band\n",
      "no band\n",
      "no band\n",
      "no band\n",
      "no band\n",
      "no band\n",
      "no band\n",
      "no band\n",
      "no band\n",
      "no band\n",
      "no band\n",
      "no band\n",
      "no band\n",
      "no band\n",
      "no band\n",
      "no band\n",
      "no band\n",
      "no band\n",
      "no band\n",
      "no band\n",
      "no band\n",
      "no band\n",
      "no band\n",
      "no band\n",
      "no band\n",
      "no band\n",
      "no band\n",
      "no band\n",
      "no band\n",
      "no band\n",
      "no band\n",
      "no band\n",
      "no band\n",
      "no band\n",
      "no band\n",
      "no band\n",
      "no band\n",
      "no band\n",
      "no band\n",
      "no band\n",
      "no band\n",
      "no band\n",
      "no band\n",
      "no band\n",
      "no band\n",
      "no band\n",
      "no band\n",
      "no band\n",
      "no band\n",
      "no band\n",
      "no band\n",
      "no band\n",
      "no band\n",
      "no band\n",
      "no band\n",
      "no band\n",
      "no band\n",
      "no band\n",
      "no band\n",
      "no band\n",
      "no band\n",
      "no band\n",
      "no band\n",
      "no band\n",
      "no band\n",
      "no band\n",
      "no band\n",
      "no band\n",
      "no band\n",
      "no band\n",
      "no band\n",
      "no band\n",
      "no band\n",
      "no band\n",
      "no band\n",
      "no band\n",
      "no band\n",
      "no band\n",
      "no band\n",
      "no band\n",
      "no band\n",
      "no band\n",
      "no band\n",
      "no band\n",
      "no band\n",
      "no band\n",
      "no band\n",
      "no band\n",
      "no band\n",
      "no band\n",
      "no band\n",
      "no band\n",
      "no band\n",
      "no band\n",
      "no band\n",
      "no band\n",
      "no band\n",
      "no band\n",
      "no band\n",
      "no band\n",
      "no band\n",
      "no band\n",
      "no band\n",
      "no band\n",
      "no band\n",
      "no band\n",
      "no band\n",
      "no band\n",
      "no band\n",
      "no band\n",
      "no band\n",
      "no band\n",
      "no band\n",
      "no band\n",
      "no band\n",
      "no band\n",
      "no band\n",
      "no band\n",
      "no band\n",
      "no band\n",
      "no band\n",
      "no band\n",
      "no band\n",
      "no band\n",
      "no band\n",
      "no band\n",
      "no band\n",
      "no band\n",
      "no band\n",
      "no band\n",
      "no band\n",
      "no band\n",
      "no band\n",
      "no band\n",
      "no band\n",
      "no band\n",
      "no band\n",
      "no band\n",
      "no band\n",
      "no band\n",
      "no band\n",
      "no band\n",
      "no band\n",
      "no band\n",
      "no band\n",
      "no band\n",
      "no band\n",
      "no band\n",
      "no band\n",
      "no band\n",
      "no band\n",
      "no band\n",
      "no band\n",
      "no band\n",
      "no band\n",
      "no band\n",
      "no band\n",
      "no band\n",
      "no band\n",
      "no band\n",
      "no band\n",
      "no band\n",
      "no band\n",
      "no band\n",
      "no band\n",
      "no band\n",
      "no band\n",
      "no band\n",
      "no band\n",
      "no band\n"
     ]
    }
   ],
   "source": [
    "testing_images = os.listdir('dataset/without_band/1')\n",
    "for img in testing_images:\n",
    "    img = cv.imread('dataset/without_band/1/'+img)\n",
    "    img = preprocess(img)\n",
    "    cv.imshow('image',img)\n",
    "    pred = model.predict(img[np.newaxis,...])\n",
    "    pred = np.argmax(pred[0])\n",
    "    if pred == 0:\n",
    "        label = 'no band'\n",
    "    elif pred == 1:\n",
    "        label = 'yes band'\n",
    "    print(label)\n",
    "    if cv.waitKey(1)&0xff == ord('q'):\n",
    "        break\n",
    "cv.destroyAllWindows()"
   ]
  },
  {
   "cell_type": "code",
   "execution_count": 31,
   "id": "c86ba7bb",
   "metadata": {},
   "outputs": [],
   "source": [
    "cv.destroyAllWindows()"
   ]
  },
  {
   "cell_type": "code",
   "execution_count": 53,
   "id": "081078da",
   "metadata": {},
   "outputs": [
    {
     "data": {
      "text/plain": [
       "array([[0.3690998, 0.6309002]], dtype=float32)"
      ]
     },
     "execution_count": 53,
     "metadata": {},
     "output_type": "execute_result"
    }
   ],
   "source": [
    "i = cv.imread('dataset/with_band/1/2662.jpg')\n",
    "show(i)\n",
    "i = preprocess(i)\n",
    "model.predict(i)"
   ]
  },
  {
   "cell_type": "code",
   "execution_count": 50,
   "id": "03ef8782",
   "metadata": {},
   "outputs": [],
   "source": [
    "show(x_val[0])"
   ]
  },
  {
   "cell_type": "code",
   "execution_count": 51,
   "id": "a0d73cac",
   "metadata": {},
   "outputs": [
    {
     "data": {
      "text/plain": [
       "array([[5.894997e-17, 1.000000e+00]], dtype=float32)"
      ]
     },
     "execution_count": 51,
     "metadata": {},
     "output_type": "execute_result"
    }
   ],
   "source": [
    "model.predict(x_val[0].reshape(1,70,80,3))"
   ]
  },
  {
   "cell_type": "code",
   "execution_count": 56,
   "id": "ec60dce0",
   "metadata": {},
   "outputs": [],
   "source": [
    "pred = model.predict(x_val)\n",
    "pred = np.argmax(pred,axis=1)"
   ]
  },
  {
   "cell_type": "code",
   "execution_count": 58,
   "id": "6e06c36d",
   "metadata": {},
   "outputs": [],
   "source": [
    "from sklearn.metrics import confusion_matrix"
   ]
  },
  {
   "cell_type": "code",
   "execution_count": 66,
   "id": "6fe572f6",
   "metadata": {},
   "outputs": [
    {
     "data": {
      "text/plain": [
       "array([[4572,    9],\n",
       "       [  12, 4570]], dtype=int64)"
      ]
     },
     "execution_count": 66,
     "metadata": {},
     "output_type": "execute_result"
    }
   ],
   "source": [
    "confusion_matrix(y_val,pred)"
   ]
  },
  {
   "cell_type": "code",
   "execution_count": null,
   "id": "ed468b86",
   "metadata": {},
   "outputs": [],
   "source": []
  }
 ],
 "metadata": {
  "kernelspec": {
   "display_name": "Python 3",
   "language": "python",
   "name": "python3"
  },
  "language_info": {
   "codemirror_mode": {
    "name": "ipython",
    "version": 3
   },
   "file_extension": ".py",
   "mimetype": "text/x-python",
   "name": "python",
   "nbconvert_exporter": "python",
   "pygments_lexer": "ipython3",
   "version": "3.8.8"
  }
 },
 "nbformat": 4,
 "nbformat_minor": 5
}
